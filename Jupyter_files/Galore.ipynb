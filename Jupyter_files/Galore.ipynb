{
 "cells": [
  {
   "cell_type": "code",
   "execution_count": null,
   "metadata": {},
   "outputs": [],
   "source": [
    "import numpy as np\n",
    "import matplotlib.pyplot as plt\n",
    "from matplotlib.cm import viridis as cmap\n",
    "import galore\n",
    "import galore.plot"
   ]
  },
  {
   "cell_type": "code",
   "execution_count": null,
   "metadata": {},
   "outputs": [],
   "source": [
    "# interpolate the data with galore\n",
    "galore data.txt  --txt plot_data.txt -l 40 -g 50  --units cm-1 --ylabel Intensity --spikes"
   ]
  },
  {
   "cell_type": "code",
   "execution_count": null,
   "metadata": {},
   "outputs": [],
   "source": [
    "# change the intensity\n",
    "awk  '{$2=$2*a;print}' a=2 plot_data.txt >> plot_data2.txt"
   ]
  },
  {
   "cell_type": "code",
   "execution_count": null,
   "metadata": {},
   "outputs": [],
   "source": [
    "# ploting with gnuplot\n",
    "plot 'plot_data2.txt' u 1:2  title 'sigma1=0.08' w lines , \"plot_data3.txt\" u 1:2 title 'sigma2=0.04' w lines , \"plotdat2.txt\" u 1:2 title 'sigma3=0.16' w lines  lc rgb \"blue\"\n"
   ]
  }
 ],
 "metadata": {
  "kernelspec": {
   "display_name": "Python 3",
   "language": "python",
   "name": "python3"
  },
  "language_info": {
   "codemirror_mode": {
    "name": "ipython",
    "version": 3
   },
   "file_extension": ".py",
   "mimetype": "text/x-python",
   "name": "python",
   "nbconvert_exporter": "python",
   "pygments_lexer": "ipython3",
   "version": "3.6.9"
  }
 },
 "nbformat": 4,
 "nbformat_minor": 2
}
