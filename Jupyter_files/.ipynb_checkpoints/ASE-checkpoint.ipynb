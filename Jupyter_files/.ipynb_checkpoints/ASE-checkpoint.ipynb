{
 "cells": [
  {
   "cell_type": "code",
   "execution_count": null,
   "metadata": {},
   "outputs": [],
   "source": [
    "# Getting Volume:\n",
    "\n",
    "import ase\n",
    "from ase.io import read, write\n",
    "from ase.build import molecule\n",
    "from ase.build import bulk\n",
    "\n",
    "#data=open('geometry.in')\n",
    "\n",
    "data=read('geometry.in', format='aims')\n",
    "volume = data.get_volume()\n",
    "print(volume)\n",
    "C=1.6021766e-19\n",
    "born_factor=(volume*1e-20)/((C))\n",
    "print(born_factor)"
   ]
  },
  {
   "cell_type": "code",
   "execution_count": null,
   "metadata": {},
   "outputs": [],
   "source": [
    "# Building Bulk TMDCS\n",
    "\n",
    "from ase.build import mx2\n",
    "from ase.io import read , write\n",
    "from ase import Atoms\n",
    "from ase.spacegroup import crystal\n",
    "#building bulk MoS2\n",
    "a1= crystal(('Mo','S'), basis= [(0.333, 0.667, 0.25),(0.333, 0.667, 0.625)],spacegroup=194,\n",
    "            cellpar=[3.18, 3.18, 12.29, 90,90,60], size=(1,1,1),symprec=0.01) #2H\n",
    "a1.write('geometry_2H.in',format='aims')\n",
    "\n",
    "b= crystal(('Mo','S','S'), basis= [(0, 0, 0),(0, 0, 0.249),(0,0,0.419)],spacegroup=160,cellpar=\n",
    "           [3.163, 3.163, 18.37, 90,90,120]) #3R\n",
    "####################TiS2 1T##############################\n",
    "a2= crystal(('Ti','S'), basis= [(0, 0, 0),(1/3, 2/3, 0.25)],spacegroup=164,\n",
    "            cellpar=[3.478, 3.478, 5.749, 90,90,60], size=(1,1,1)) #1T\n",
    "\n",
    "a2.write('geometry_1T.in',format='aims')\n",
    "\n",
    "#for the case of 2H pay attention to add symprec=0.01(defualt 0.01) so I don't have unnecessary atoms.\n"
   ]
  },
  {
   "cell_type": "code",
   "execution_count": null,
   "metadata": {},
   "outputs": [],
   "source": [
    "# Adding a molecule to metal surface\n",
    "from ase.build import molecule\n",
    "from ase.build import fcc111, add_adsorbate,fcc100, fcc110\n",
    "\n",
    "slab = fcc111('Cu', size=(6,6,1),a=3.6318) # 1 layer\n",
    "print(slab.get_cell_lengths_and_angles())\n",
    "\n",
    "atoms = molecule('C6H6')\n",
    "#atoms.rotate(30, 'x')\n",
    "#atoms.euler_rotate(phi=0.0, theta=30.0, psi=0.0, center=(0, 0, 0))\n",
    "add_adsorbate(slab, atoms, 2.69, 'ontop')\n",
    "\n",
    "slab.center(vacuum=50.0, axis=2)\n",
    "#d=slab.get_all_distances(mic=False, vector=False)\n",
    "\n",
    "slab.write('geometry.in',format='aims')\n",
    "                                    "
   ]
  },
  {
   "cell_type": "code",
   "execution_count": null,
   "metadata": {},
   "outputs": [],
   "source": [
    "# Build an isolated molecule:\n",
    "from ase.build import molecule\n",
    "atoms = molecule('C6H6')\n",
    "atoms.write('C6H6.in', format='aims')"
   ]
  },
  {
   "cell_type": "code",
   "execution_count": null,
   "metadata": {},
   "outputs": [],
   "source": [
    "#building TMDC monolayer\n",
    "\n",
    "from ase.build import mx2\n",
    "from ase.io import read , write\n",
    "\n",
    "a1=mx2(formula='MoS2', kind='2H', a=3.16293296, b=2.73848055, thickness=3.19, size=(1, 1, 1), vacuum=None)\n",
    "a1.write('geometry2H.in',format='aims')\n",
    "\n",
    "#2H mirror symmetry\n",
    "#1T inversion symmetry\n",
    "#size is the size of the slab , in the second example a slab 2x2x3 times the minimal possible size\n",
    "\n",
    "#vacuum:The thickness of the vacuum layer. The specified amount of vacuum appears on both sides \n",
    "#of the slab. Default value is None, meaning not to add any vacuum. In that case the third axis \n",
    "#perpendicular to the surface will be undefined ([0, 0, 0]) or\n",
    "\n",
    "#To add an adsorbate  \n",
    "add_adsorbate(a2, 'H',0.2, position=(0, 0), offset=None, mol_index=0)"
   ]
  },
  {
   "cell_type": "code",
   "execution_count": null,
   "metadata": {},
   "outputs": [],
   "source": [
    "#building an atom and visaulizing it:\n",
    "from ase import Atoms\n",
    "atoms = Atoms('N2', positions=[[0, 0, -1], [0, 0, 1]])\n",
    "from ase.visualize import view\n",
    "view(atoms)\n",
    "#writing it to a file\n",
    "from ase.io import write\n",
    "write('myatoms.traj', atoms)\n",
    "# Another way to view from the terminal :\n",
    "ase gui myatoms.traj"
   ]
  }
 ],
 "metadata": {
  "kernelspec": {
   "display_name": "Python 3",
   "language": "python",
   "name": "python3"
  },
  "language_info": {
   "codemirror_mode": {
    "name": "ipython",
    "version": 3
   },
   "file_extension": ".py",
   "mimetype": "text/x-python",
   "name": "python",
   "nbconvert_exporter": "python",
   "pygments_lexer": "ipython3",
   "version": "3.6.9"
  }
 },
 "nbformat": 4,
 "nbformat_minor": 2
}
