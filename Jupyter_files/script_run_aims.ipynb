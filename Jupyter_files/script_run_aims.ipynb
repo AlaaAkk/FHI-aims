{
 "cells": [
  {
   "cell_type": "code",
   "execution_count": 5,
   "metadata": {},
   "outputs": [],
   "source": [
    "import shutil\n",
    "import subprocess as sp\n",
    "from pathlib import Path\n",
    "\n",
    "import numpy as np\n",
    "\n",
    "from ase.build import molecule \n",
    "from ase.io import read\n",
    "\n",
    "def run_aims(folder, \n",
    "             aims_out='aims.out', \n",
    "             aims_cmd='/home/akkoush/Desktop/fhi-aims.171221_1/bin/aims.171221_1.serial.x', \n",
    "             check=True, \n",
    "             verbose=True):\n",
    "    \"\"\" Run an aims calculation if it has not been performed before.\"\"\"\n",
    "    output_file = folder / aims_out\n",
    "    \n",
    "    if output_file.exists() and check:\n",
    "        if 'Have a nice day' in (folder / aims_out).read_text():\n",
    "            print(f'aims calculation in ' + str(folder) + ' already finished')\n",
    "            return True\n",
    "        \n",
    "    if verbose: \n",
    "        print(f'Run aims calculation in ' + str(folder))\n",
    "        \n",
    "    with open(folder / aims_out, 'wb') as f:\n",
    "        log = sp.run(aims_cmd.split(), cwd=folder, stdout=f)\n",
    "        \n",
    "    return True"
   ]
  },
  {
   "cell_type": "code",
   "execution_count": null,
   "metadata": {},
   "outputs": [],
   "source": [
    "-"
   ]
  }
 ],
 "metadata": {
  "kernelspec": {
   "display_name": "Python 3",
   "language": "python",
   "name": "python3"
  },
  "language_info": {
   "codemirror_mode": {
    "name": "ipython",
    "version": 3
   },
   "file_extension": ".py",
   "mimetype": "text/x-python",
   "name": "python",
   "nbconvert_exporter": "python",
   "pygments_lexer": "ipython3",
   "version": "3.6.9"
  }
 },
 "nbformat": 4,
 "nbformat_minor": 2
}
