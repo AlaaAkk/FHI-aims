{
 "cells": [
  {
   "cell_type": "code",
   "execution_count": 2,
   "metadata": {},
   "outputs": [],
   "source": [
    "import copy, os, shutil\n",
    "from ase.io import read, write\n",
    "from ase.build import bulk\n",
    "import numpy as np\n",
    "import scipy\n",
    "from scipy.constants import physical_constants\n",
    "from math import pi\n",
    "\n",
    "\n"
   ]
  },
  {
   "cell_type": "markdown",
   "metadata": {},
   "source": [
    "# finite expansion:\n",
    "$p=\\frac{\\partial E}{V\\partial\\epsilon}\\\\$ \n",
    "$\\alpha=\\frac{\\partial^2 E}{\\partial^2\\epsilon}$"
   ]
  },
  {
   "cell_type": "code",
   "execution_count": null,
   "metadata": {},
   "outputs": [],
   "source": [
    "term=1.6021766e-19 * 1e20  #e/A2 to C/m2\n",
    "if os.path.exists('zero'):\n",
    "   vol=open('zero')\n",
    "   V=read('zero', format='aims-output')\n",
    "   volume=V.get_volume()\n",
    "   print(volume)\n",
    "   E_0=V.get_total_energy()\n",
    "\n",
    "if os.path.exists('pos'):\n",
    "   vol=open('pos')   # adding  homogeneous_field 0 0 0.001   in the geometry file\n",
    "   V=read('pos', format='aims-output')\n",
    "\n",
    "   E_pos=V.get_total_energy()\n",
    "\n",
    "if os.path.exists('neg'):\n",
    "   vol=open('neg')     # adding  homogeneous_field 0 0 -0.001   in the geometry file\n",
    "   V=read('neg', format='aims-output')\n",
    "   E_neg=V.get_total_energy()\n",
    "\n",
    "pol=(E_pos-E_neg)/(2*volume*0.001)\n",
    "\n",
    "print(pol)\n",
    "\n",
    "#pol=(E_pos-E_0)/(1*volume*0.001)\n",
    "\n",
    "#print(pol)\n",
    "print('theoretical is: -40.761047E-06 (C/m^2)')\n",
    "term1=1.6021766e-19 * 1e-20 #Cm2\n",
    "term1=(term1 * 1e6 * 6.7483345e+24 )/( 4*pi*8.854*1e-12)\n",
    "alpha=((E_pos-(2*E_0)+E_neg)*term1)/((0.001)**2)\n",
    "\n",
    "print('my polarizability value is: ')+str(alpha)\n",
    "print('DFPT is: 49.377')\n"
   ]
  },
  {
   "cell_type": "code",
   "execution_count": null,
   "metadata": {},
   "outputs": [],
   "source": []
  }
 ],
 "metadata": {
  "kernelspec": {
   "display_name": "Python 3",
   "language": "python",
   "name": "python3"
  },
  "language_info": {
   "codemirror_mode": {
    "name": "ipython",
    "version": 3
   },
   "file_extension": ".py",
   "mimetype": "text/x-python",
   "name": "python",
   "nbconvert_exporter": "python",
   "pygments_lexer": "ipython3",
   "version": "3.6.9"
  }
 },
 "nbformat": 4,
 "nbformat_minor": 2
}
