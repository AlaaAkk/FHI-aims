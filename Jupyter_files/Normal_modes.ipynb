{
 "cells": [
  {
   "cell_type": "code",
   "execution_count": null,
   "metadata": {},
   "outputs": [],
   "source": [
    "import numpy as np\n",
    "\n",
    "from ase.build import molecule \n",
    "from ase.io import read"
   ]
  },
  {
   "cell_type": "code",
   "execution_count": null,
   "metadata": {},
   "outputs": [],
   "source": [
    "a= molecule('N2')\n",
    "a.write('geometry.in',format='aims')\n",
    "\n",
    "#Geometry.in file is created \n",
    "#creating control.in file manually and setting the relax geometry command \n",
    "#runn aims \n",
    "\n",
    "\n",
    "a = read('aims.out', format='aims-output')[-1] #-1 means last iteration\n",
    "d = 0.01\n",
    "for i in range(len(a)):\n",
    "    for x in range(3):\n",
    "        b = a.copy() #copy a in b \n",
    "        b.positions[i, x] += d # change d for each element one by one \n",
    "        b.write(f'geometry.in.{i}{x}', format='aims')\n",
    "\n",
    "# run fhi-aims for each displacment(for each geometry.in file) \n",
    "\n",
    "\n",
    "for i in range(a.positions.size):     \n",
    "\n",
    "        F = []\n",
    "        c = read(f'{i}/aims.out', format='aims-output') #reading the force for each displacment \n",
    "        f = c.get_forces()\n",
    "        f = c.get_forces().flatten()\n",
    "        F.append(f) # creating an array of forces \n",
    "       \n",
    "\n",
    "    import numpy as np\n",
    "\n",
    "U = d * np.eye(a.positions.size) #np.eye(2*3)\n",
    "U_inv = 1/d**2 * U\n",
    "a.get_masses() \n",
    "\n",
    "#Hessian\n",
    "H=np.dot(F, U_inv)\n",
    "H_d=np.diag(H) # diagonalize \n",
    "\n",
    "#Dynamical Matrix\n",
    "\n",
    "D=1/np.sqrt(a.masses) * H_d #masses of two nitrogen atoms \n",
    "\n",
    "#finding eigenvalues and vectors of the dynamical matrix \n",
    "from numpy import linalg as LA\n",
    "w2, v = LA.eig(D)  \n",
    "w=np.sqrt(w)\n",
    "print(w)    \n",
    "\n",
    "print(v)"
   ]
  }
 ],
 "metadata": {
  "kernelspec": {
   "display_name": "Python 3",
   "language": "python",
   "name": "python3"
  },
  "language_info": {
   "codemirror_mode": {
    "name": "ipython",
    "version": 3
   },
   "file_extension": ".py",
   "mimetype": "text/x-python",
   "name": "python",
   "nbconvert_exporter": "python",
   "pygments_lexer": "ipython3",
   "version": "3.6.9"
  }
 },
 "nbformat": 4,
 "nbformat_minor": 2
}
